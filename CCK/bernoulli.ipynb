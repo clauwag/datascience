{
 "cells": [
  {
   "cell_type": "code",
   "execution_count": 3,
   "metadata": {
    "collapsed": false
   },
   "outputs": [
    {
     "name": "stdout",
     "output_type": "stream",
     "text": [
      "Starting...\n",
      "0.367879441171\n",
      "-0.3982\n",
      "250.0\n",
      "2.5e-07\n",
      "0.4996018\n",
      "0.02\n"
     ]
    },
    {
     "data": {
      "image/png": "[encoded data removed]",
      "text/plain": [
       "<matplotlib.figure.Figure at 0x7facdb5a39d0>"
      ]
     },
     "metadata": {},
     "output_type": "display_data"
    }
   ],
   "source": [
    "%matplotlib inline\n",
    "from IPython.core.pylabtools import figsize\n",
    "import numpy as np\n",
    "from matplotlib import pyplot as plt\n",
    "figsize(11, 9)\n",
    "\n",
    "import scipy.stats as stats\n",
    "\n",
    "trials = 1000\n",
    "p = 0.5\n",
    "experiments = 10000;\n",
    "\n",
    "print \"Starting...\"\n",
    "\n",
    "\n",
    "print np.exp(-1/10)\n",
    "\n",
    "data = [0]*experiments\n",
    "counts = [0]*experiments\n",
    "for i in range(0,experiments):\n",
    "    count = np.sum(stats.bernoulli.rvs(p, size=trials))\n",
    "    counts[i] = count\n",
    "    data[i] = (count - p*trials)#*(count - p*trials)*(count - p*trials)*(count - p*trials)\n",
    "\n",
    "print np.mean(data)\n",
    "print trials * p * (1-p)\n",
    "print (p * (1-p)) / (trials*trials)\n",
    "print np.mean(counts)/trials\n",
    "\n",
    "plt.hist(data,bins=1000)\n",
    "plt.show\n",
    "\n",
    "print sorted(data)[int(experiments*0.90)]/trials\n",
    "\n",
    "#plt.hist(counts)\n",
    "#plt.show"
   ]
  },
  {
   "cell_type": "code",
   "execution_count": null,
   "metadata": {
    "collapsed": true
   },
   "outputs": [],
   "source": []
  },
  {
   "cell_type": "code",
   "execution_count": null,
   "metadata": {
    "collapsed": true
   },
   "outputs": [],
   "source": []
  },
  {
   "cell_type": "code",
   "execution_count": null,
   "metadata": {
    "collapsed": true
   },
   "outputs": [],
   "source": []
  },
  {
   "cell_type": "code",
   "execution_count": null,
   "metadata": {
    "collapsed": true
   },
   "outputs": [],
   "source": []
  }
 ],
 "metadata": {
  "kernelspec": {
   "display_name": "Python 2",
   "language": "python",
   "name": "python2"
  },
  "language_info": {
   "codemirror_mode": {
    "name": "ipython",
    "version": 2
   },
   "file_extension": ".py",
   "mimetype": "text/x-python",
   "name": "python",
   "nbconvert_exporter": "python",
   "pygments_lexer": "ipython2",
   "version": "2.7.10"
  }
 },
 "nbformat": 4,
 "nbformat_minor": 0
}
